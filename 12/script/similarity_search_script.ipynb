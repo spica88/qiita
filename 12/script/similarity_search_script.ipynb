{
 "cells": [
  {
   "cell_type": "code",
   "execution_count": 1,
   "metadata": {},
   "outputs": [],
   "source": [
    "import pandas\n",
    "\n",
    "df = pandas.read_csv(\"data/clustering_vec.csv\")"
   ]
  },
  {
   "cell_type": "code",
   "execution_count": 2,
   "metadata": {},
   "outputs": [],
   "source": [
    "ccae_columns = df.columns[1:]"
   ]
  },
  {
   "cell_type": "code",
   "execution_count": 3,
   "metadata": {},
   "outputs": [
    {
     "name": "stdout",
     "output_type": "stream",
     "text": [
      "2120_2018-02-07_2018-02-21.png\n"
     ]
    }
   ],
   "source": [
    "query = df[\"filepath\"][25]\n",
    "print(query)\n",
    "query_arr = df[df[\"filepath\"] == query][ccae_columns].values"
   ]
  },
  {
   "cell_type": "code",
   "execution_count": 4,
   "metadata": {},
   "outputs": [],
   "source": [
    "import math\n",
    "import numpy\n",
    "diff = df[ccae_columns] - query_arr\n",
    "d = numpy.sqrt((diff * diff).sum(axis=1))\n"
   ]
  },
  {
   "cell_type": "code",
   "execution_count": 5,
   "metadata": {},
   "outputs": [],
   "source": [
    "df[\"d\"] = d"
   ]
  },
  {
   "cell_type": "code",
   "execution_count": 6,
   "metadata": {},
   "outputs": [
    {
     "data": {
      "text/html": [
       "<div>\n",
       "<style scoped>\n",
       "    .dataframe tbody tr th:only-of-type {\n",
       "        vertical-align: middle;\n",
       "    }\n",
       "\n",
       "    .dataframe tbody tr th {\n",
       "        vertical-align: top;\n",
       "    }\n",
       "\n",
       "    .dataframe thead th {\n",
       "        text-align: right;\n",
       "    }\n",
       "</style>\n",
       "<table border=\"1\" class=\"dataframe\">\n",
       "  <thead>\n",
       "    <tr style=\"text-align: right;\">\n",
       "      <th></th>\n",
       "      <th>level_0</th>\n",
       "      <th>index</th>\n",
       "      <th>filepath</th>\n",
       "      <th>d</th>\n",
       "    </tr>\n",
       "  </thead>\n",
       "  <tbody>\n",
       "    <tr>\n",
       "      <th>0</th>\n",
       "      <td>1</td>\n",
       "      <td>79</td>\n",
       "      <td>2120_2018-01-17_2018-01-31.png</td>\n",
       "      <td>81.920444</td>\n",
       "    </tr>\n",
       "    <tr>\n",
       "      <th>1</th>\n",
       "      <td>2</td>\n",
       "      <td>37</td>\n",
       "      <td>2120_2017-08-16_2017-08-30.png</td>\n",
       "      <td>82.557365</td>\n",
       "    </tr>\n",
       "    <tr>\n",
       "      <th>2</th>\n",
       "      <td>3</td>\n",
       "      <td>48</td>\n",
       "      <td>2120_2018-07-23_2018-08-06.png</td>\n",
       "      <td>85.912783</td>\n",
       "    </tr>\n",
       "    <tr>\n",
       "      <th>3</th>\n",
       "      <td>4</td>\n",
       "      <td>75</td>\n",
       "      <td>2120_2019-05-07_2019-05-20.png</td>\n",
       "      <td>87.602809</td>\n",
       "    </tr>\n",
       "    <tr>\n",
       "      <th>4</th>\n",
       "      <td>5</td>\n",
       "      <td>68</td>\n",
       "      <td>2120_2017-03-02_2017-03-16.png</td>\n",
       "      <td>88.321854</td>\n",
       "    </tr>\n",
       "    <tr>\n",
       "      <th>5</th>\n",
       "      <td>6</td>\n",
       "      <td>17</td>\n",
       "      <td>2120_2018-06-12_2018-06-26.png</td>\n",
       "      <td>93.389949</td>\n",
       "    </tr>\n",
       "    <tr>\n",
       "      <th>6</th>\n",
       "      <td>7</td>\n",
       "      <td>49</td>\n",
       "      <td>2120_2016-09-15_2016-09-29.png</td>\n",
       "      <td>95.880817</td>\n",
       "    </tr>\n",
       "    <tr>\n",
       "      <th>7</th>\n",
       "      <td>9</td>\n",
       "      <td>34</td>\n",
       "      <td>2120_2017-12-05_2017-12-19.png</td>\n",
       "      <td>101.073929</td>\n",
       "    </tr>\n",
       "    <tr>\n",
       "      <th>8</th>\n",
       "      <td>10</td>\n",
       "      <td>67</td>\n",
       "      <td>2120_2018-06-27_2018-07-11.png</td>\n",
       "      <td>106.297679</td>\n",
       "    </tr>\n",
       "    <tr>\n",
       "      <th>9</th>\n",
       "      <td>11</td>\n",
       "      <td>76</td>\n",
       "      <td>2120_2017-01-23_2017-02-06.png</td>\n",
       "      <td>109.373535</td>\n",
       "    </tr>\n",
       "  </tbody>\n",
       "</table>\n",
       "</div>"
      ],
      "text/plain": [
       "   level_0  index                        filepath           d\n",
       "0        1     79  2120_2018-01-17_2018-01-31.png   81.920444\n",
       "1        2     37  2120_2017-08-16_2017-08-30.png   82.557365\n",
       "2        3     48  2120_2018-07-23_2018-08-06.png   85.912783\n",
       "3        4     75  2120_2019-05-07_2019-05-20.png   87.602809\n",
       "4        5     68  2120_2017-03-02_2017-03-16.png   88.321854\n",
       "5        6     17  2120_2018-06-12_2018-06-26.png   93.389949\n",
       "6        7     49  2120_2016-09-15_2016-09-29.png   95.880817\n",
       "7        9     34  2120_2017-12-05_2017-12-19.png  101.073929\n",
       "8       10     67  2120_2018-06-27_2018-07-11.png  106.297679\n",
       "9       11     76  2120_2017-01-23_2017-02-06.png  109.373535"
      ]
     },
     "execution_count": 6,
     "metadata": {},
     "output_type": "execute_result"
    }
   ],
   "source": [
    "from datetime import datetime as dt\n",
    "\n",
    "df = df.sort_values(\"d\")[[\"filepath\", \"d\"]].reset_index()\n",
    "def from_n_to(data):\n",
    "    data2 = data.split('_')\n",
    "    a = data2[1]\n",
    "    b = data2[2].split('.')[0]\n",
    "    return (dt.strptime(a, '%Y-%m-%d'), dt.strptime(b, '%Y-%m-%d'))\n",
    "\n",
    "def time_duplication(data):\n",
    "    a = data[0]\n",
    "    b = data[1]\n",
    "    if x[0] <= a <= x[1] or x[0] <= b <= x[1]:\n",
    "        return False\n",
    "    else:\n",
    "        return True\n",
    "\n",
    "x = from_n_to(df[\"filepath\"][0])\n",
    "df2 = df[df[\"filepath\"].map(from_n_to).map(time_duplication)].reset_index().head(10)\n",
    "df2"
   ]
  },
  {
   "cell_type": "code",
   "execution_count": 7,
   "metadata": {},
   "outputs": [
    {
     "name": "stdout",
     "output_type": "stream",
     "text": [
      "2120_2018-01-17_2018-01-31.png\n"
     ]
    }
   ],
   "source": [
    "most_similarity_chart = df2.sort_values(\"d\")[[\"filepath\", \"d\"]].head(10)[\"filepath\"][0]\n",
    "print(most_similarity_chart)"
   ]
  },
  {
   "cell_type": "code",
   "execution_count": 8,
   "metadata": {},
   "outputs": [],
   "source": [
    "from PIL import Image\n"
   ]
  },
  {
   "cell_type": "code",
   "execution_count": 9,
   "metadata": {},
   "outputs": [
    {
     "data": {
      "image/png": "[encoded data removed]",
      "text/plain": [
       "<PIL.PngImagePlugin.PngImageFile image mode=RGBA size=256x256 at 0x11B41B860>"
      ]
     },
     "execution_count": 9,
     "metadata": {},
     "output_type": "execute_result"
    }
   ],
   "source": [
    "Image.open(\"data/img/clustering/{}\".format(query))"
   ]
  },
  {
   "cell_type": "code",
   "execution_count": 10,
   "metadata": {},
   "outputs": [
    {
     "data": {
      "image/png": "[encoded data removed]",
      "text/plain": [
       "<PIL.PngImagePlugin.PngImageFile image mode=RGBA size=256x256 at 0x11B620978>"
      ]
     },
     "execution_count": 10,
     "metadata": {},
     "output_type": "execute_result"
    }
   ],
   "source": [
    "Image.open(\"data/img/clustering/{}\".format(most_similarity_chart))"
   ]
  },
  {
   "cell_type": "code",
   "execution_count": null,
   "metadata": {},
   "outputs": [],
   "source": []
  }
 ],
 "metadata": {
  "kernelspec": {
   "display_name": "Python 3",
   "language": "python",
   "name": "python3"
  },
  "language_info": {
   "codemirror_mode": {
    "name": "ipython",
    "version": 3
   },
   "file_extension": ".py",
   "mimetype": "text/x-python",
   "name": "python",
   "nbconvert_exporter": "python",
   "pygments_lexer": "ipython3",
   "version": "3.7.1"
  }
 },
 "nbformat": 4,
 "nbformat_minor": 2
}
